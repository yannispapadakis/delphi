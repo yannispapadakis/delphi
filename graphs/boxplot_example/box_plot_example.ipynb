{
 "cells": [
  {
   "cell_type": "code",
   "execution_count": 1,
   "id": "68039855-79f7-4f59-96c1-4cd1e859bf9a",
   "metadata": {},
   "outputs": [],
   "source": [
    "import matplotlib.pyplot as plt\n",
    "import pandas as pd\n",
    "import matplotlib.font_manager"
   ]
  },
  {
   "cell_type": "code",
   "execution_count": 4,
   "id": "e5172a66-4c9b-4ee5-9437-1ac1bb957b42",
   "metadata": {},
   "outputs": [],
   "source": [
    "def box_plot_example():\n",
    "    (app1, app2, app3) = ('sjeng-2', 'img-dnn-2', 'perlbench-1')\n",
    "    with open(f\"heatmap.csv\") as h_fd:\n",
    "        heatmap = pd.read_csv(h_fd, delimiter = '\\t')\n",
    "    heatmap = heatmap.rename(columns={'Unnamed: 0': 'Bench'})\n",
    "    to_plot = heatmap.loc[(heatmap['Bench'] == app1) | (heatmap['Bench'] == app2) | (heatmap['Bench'] == app3)]\n",
    "    to_plot = to_plot.replace(app1, 'Application 1').replace(app2, 'Application 3').replace(app3, 'Application 2')\n",
    "    to_plot = to_plot.set_index('Bench')\n",
    "    to_plot = to_plot.transpose()\n",
    "\n",
    "    bp = to_plot.boxplot(column = ['Application 1', 'Application 2', 'Application 3'],\n",
    "                         grid = False, figsize = (20, 10), patch_artist = True,\n",
    "                         return_type = 'both')\n",
    "    lw = 3\n",
    "    color1 = 'dimgray'\n",
    "    color2 = 'silver'\n",
    "    fontsize = 45\n",
    "    fname = \"Times New Roman\"\n",
    "    \n",
    "    for whisker in bp[1]['whiskers']: whisker.set(color = color1, linewidth = lw)\n",
    "    for cap in bp[1]['caps']: cap.set(color=color1, xdata=cap.get_xdata() - (-0.005,+0.005), linewidth = lw)\n",
    "    for box in bp[1]['boxes']:\n",
    "        box.set(color=color1, linewidth = lw)\n",
    "        box.set_facecolor(color2)\n",
    "    for median in bp[1]['medians']: median.set(color=color1, linewidth = lw)\n",
    "    for (i,flier) in enumerate(bp[1]['fliers']):\n",
    "        flier.set(marker = 'o',\n",
    "                  markerfacecolor = color1 if i < 2 else 'white',\n",
    "                  markeredgecolor = color1 if i < 2 else 'white',\n",
    "                  markersize = 6) \n",
    "    plt.ylabel('Slowdown', fontsize = fontsize + 6, fontname = fname)\n",
    "    plt.ylim(top=2.1)\n",
    "    plt.yticks([])\n",
    "    for tick in bp[0].xaxis.get_major_ticks():\n",
    "        tick.label1.set_fontsize(fontsize)\n",
    "        tick.label1.set_fontname(fname)\n",
    "    \n",
    "    arrowprops1 = dict(arrowstyle = \"->\",\n",
    "                    connectionstyle = \"angle, angleA = 300, angleB = 60,rad = 100\", linewidth = lw - 1)\n",
    "    arrowprops2 = dict(arrowstyle = \"->\",\n",
    "                    connectionstyle = \"angle, angleA = 270, angleB = 340, rad = 120\", linewidth = lw - 1)\n",
    "    arrowprops3 = dict(arrowstyle = \"->\",linewidth = lw - 1, \n",
    "                    connectionstyle = \"angle, angleA = 260, angleB = 100,rad = 120\")\n",
    "    \n",
    "    plt.annotate('Conservative Cl.: Insensitive\\nModerate Cl.: Insensitive', xy = (1.06, 1.06), xytext = (1.125, 1.4), fontsize = fontsize, arrowprops = arrowprops1, ha='center', fontname = fname)\n",
    "    plt.annotate('Conservative Cl.: Sensitive\\nModerate Cl.: Moderately Sensitive', xy = (2.06, 1.235), xytext = (2, 1.6), fontsize = fontsize, arrowprops = arrowprops1, ha='center', fontname = fname)\n",
    "    xt2 = 2.9\n",
    "    plt.annotate('Conservative Cl.: Sensitive', xy = (2.94, 1.8), xytext = (xt2, 1.95), fontsize = fontsize, ha='center', fontname = fname)\n",
    "    plt.annotate('', xy = (3.09, 1.82), xytext = (3.45, 1.94), arrowprops = arrowprops2)\n",
    "    plt.annotate('Moderate Cl.: Sensitive', xy = (3.15, 1.35), xytext = (xt2, 1.93), fontsize = fontsize, ha='center',va='top', fontname = fname)\n",
    "    plt.annotate('', xy = (2.87, 1.35), xytext = (2.87, 1.87), arrowprops = arrowprops3, ha='right',va='top')\n",
    "    plt.axhline(y = 1.2, color = \"firebrick\", linewidth = lw, zorder = 4) \n",
    "    plt.suptitle('')\n",
    "    plt.tight_layout()\n",
    "    plt.savefig(f'BoxPlotExample.png')\n",
    "    plt.close()"
   ]
  },
  {
   "cell_type": "code",
   "execution_count": 5,
   "id": "9f298332-903b-4e43-bd6a-dfbf05d73ba4",
   "metadata": {},
   "outputs": [],
   "source": [
    "box_plot_example()"
   ]
  },
  {
   "cell_type": "code",
   "execution_count": null,
   "id": "70edb4e9-1899-4619-8ed4-5a58ee35673e",
   "metadata": {},
   "outputs": [],
   "source": []
  }
 ],
 "metadata": {
  "kernelspec": {
   "display_name": "Python 3 (ipykernel)",
   "language": "python",
   "name": "python3"
  },
  "language_info": {
   "codemirror_mode": {
    "name": "ipython",
    "version": 3
   },
   "file_extension": ".py",
   "mimetype": "text/x-python",
   "name": "python",
   "nbconvert_exporter": "python",
   "pygments_lexer": "ipython3",
   "version": "3.10.6"
  }
 },
 "nbformat": 4,
 "nbformat_minor": 5
}
