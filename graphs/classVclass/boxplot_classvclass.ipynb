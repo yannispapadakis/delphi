{
 "cells": [
  {
   "cell_type": "code",
   "execution_count": 1,
   "id": "b0cdc611-314b-4af6-973f-12475461eb79",
   "metadata": {},
   "outputs": [],
   "source": [
    "import numpy as np\n",
    "import pandas as pd\n",
    "import matplotlib.pyplot as plt\n",
    "import matplotlib.font_manager\n",
    "from collections import OrderedDict\n",
    "import csv"
   ]
  },
  {
   "cell_type": "code",
   "execution_count": 2,
   "id": "2a514bd1-36d8-4baf-89e7-ca97714c906e",
   "metadata": {},
   "outputs": [],
   "source": [
    "features = ['sens', 'cont']\n",
    "\n",
    "def spawn_heatmap(benchmarks = []):\n",
    "    bb = ['bodytrack', 'blackscholes', 'canneal', 'dealII', 'moses', 'sphinx3', 'milc', 'astar', 'tailbench.sphinx', 'ferret', 'leslie3d', 'silo', 'omnetpp', 'zeusmp', 'gobmk', 'povray', 'x264', 'calculix', 'bwaves', 'facesim', 'gromacs', 'perlbench', 'shore', 'bzip2', 'hmmer', 'namd', 'h264ref', 'fluidanimate', 'swaptions', 'cactusADM', 'GemsFDTD', 'freqmine', 'masstree', 'img-dnn', 'mcf', 'dedup', 'streamcluster', 'vips', 'gamess', 'xalancbmk', 'sjeng', 'soplex', 'gcc', 'tonto', 'lbm', 'libquantum']\n",
    "    vcpus = ['1', '2', '4', '8']\n",
    "    excluded_benchmarks = ['shore-1', 'masstree-8']\n",
    "    if benchmarks == []:\n",
    "        benchmarks = [x + '-' + y for x in bb for y in vcpus]\n",
    "    benchmarks = list(filter(lambda x: x not in excluded_benchmarks, benchmarks))\n",
    "    return OrderedDict((b, OrderedDict()) for b in benchmarks)"
   ]
  },
  {
   "cell_type": "code",
   "execution_count": 3,
   "id": "d7e1322b-5e0f-443f-a142-b1257b632152",
   "metadata": {},
   "outputs": [],
   "source": [
    "def clean_heatmap(heatmap):\n",
    "    for b in list(filter(lambda x: heatmap[x] == {}, list(heatmap.keys()))): del heatmap[b]"
   ]
  },
  {
   "cell_type": "code",
   "execution_count": 4,
   "id": "460ddb11-2b8f-4d0c-94f9-6b3c557f4b9c",
   "metadata": {},
   "outputs": [],
   "source": [
    "def read_heatmap(heatmap, name = 'heatmap'):\n",
    "    hm_file = name + '.csv'\n",
    "    try:\n",
    "        fd = open(hm_file)\n",
    "    except:\n",
    "        write_heatmap()\n",
    "        fd = open(hm_file)\n",
    "    hm_read = csv.reader(fd, delimiter='\\t')\n",
    "    new_files = []\n",
    "    for row in hm_read:\n",
    "        if row[0] == '':\n",
    "            benchmarks = row\n",
    "        else:\n",
    "            bench1 = row[0]\n",
    "            if bench1 not in heatmap.keys(): continue\n",
    "            for (i, sd) in enumerate(row):\n",
    "                if i == 0: continue\n",
    "                bench2 = benchmarks[i]\n",
    "                if bench2 not in heatmap.keys(): continue\n",
    "                if float(sd) > 0:\n",
    "                    heatmap[bench1][bench2] = float(sd)\n",
    "    fd.close()\n",
    "    clean_heatmap(heatmap)\n"
   ]
  },
  {
   "cell_type": "code",
   "execution_count": 5,
   "id": "222a2bc6-d6e3-494b-88e2-6bc3e90c3d49",
   "metadata": {},
   "outputs": [],
   "source": [
    "def box_plot_classvsclass(qos, class_):\n",
    "    def classes_from_file(qos, class_):\n",
    "        classes = dict()\n",
    "        for feature in features:\n",
    "            classes_fd = open(f\"SVC_{feature}_{class_}_{qos}_spt_cv.csv\")\n",
    "            classes[feature] = dict((rows[0], int(rows[-1]))\n",
    "                                    for rows in filter(lambda x: x[0] != 'Bench' and x[0] != 'Accuracy',\n",
    "                                                csv.reader(classes_fd, delimiter='\\t')))\n",
    "            classes_fd.close()\n",
    "        return classes\n",
    "\n",
    "    heatmap = spawn_heatmap()\n",
    "    read_heatmap(heatmap)\n",
    "    classes = classes_from_file(qos, class_)\n",
    "    per_classes = [[{'sd': []} for c in set(classes['cont'].values())] for s in set(classes['sens'].values())]\n",
    "\n",
    "    for bench1 in heatmap:\n",
    "        for bench2 in heatmap[bench1]:\n",
    "            per_classes[classes['sens'][bench1]][classes['cont'][bench2]]['sd'].append(heatmap[bench1][bench2])\n",
    "    dataframes = []\n",
    "    for s in per_classes:\n",
    "        for c in s:\n",
    "            dataframes.append(pd.DataFrame(c).assign(Class = str(per_classes.index(s)) + 'vs' + str(s.index(c))))\n",
    "\n",
    "    df = pd.concat(dataframes)\n",
    "    df = df.pivot(columns = 'Class', values = 'sd')\n",
    "    bp = df.boxplot(grid = False, figsize = (20, int(class_ == 3) * 2.5 + 7.5), patch_artist = True,\n",
    "                    rot = (0 if class_ == 2 else 90), return_type = 'both')\n",
    "    labels = {2: ['Insensitive -\\nNon-Contentious', 'Insensitive -\\nContentious', \\\n",
    "                  'Sensitive -\\nNon-Contentious', 'Sensitive -\\nContentious'],\n",
    "              3: ['Insensitive -\\nNon-Cont.', 'Insensitive -\\nMod. Cont.', 'Insensitive -\\nContentious',\n",
    "                  'Mod. Sens. -\\nNon-Cont.', 'Mod. Sens. -\\nMod. Cont.', 'Mod. Sens. -\\nContentious',\n",
    "                  'Sensitive -\\nNon-Cont.', 'Sensitive -\\nMod. Cont.', 'Sensitive -\\nContentious']}\n",
    "    color1 = 'dimgray'\n",
    "    color2 = 'silver'\n",
    "    lw = 3\n",
    "    fontsize = 45\n",
    "    fname = \"Times New Roman\"\n",
    "    (y_bottom, y_top, y_interval) = (1.0, min(2.4,float(class_)), qos - 1.0)\n",
    "\n",
    "    bp[0].set_xticklabels(labels[class_])\n",
    "    bp[0].set_yticks(np.arange(y_bottom, y_top, y_interval))\n",
    "\n",
    "    for whisker in bp[1]['whiskers']: whisker.set(color = color1, linewidth = lw)\n",
    "    for cap in bp[1]['caps']: cap.set(color = color1, xdata = cap.get_xdata() - (-0.005, +0.005), linewidth = lw)\n",
    "    for box in bp[1]['boxes']:\n",
    "        box.set(color = color1, linewidth = lw)\n",
    "        box.set_facecolor(color2)\n",
    "    for median in bp[1]['medians']: median.set(color=color1, linewidth = lw)\n",
    "    for flier in bp[1]['fliers']: flier.set(marker = 'o', markerfacecolor = color2, markeredgecolor = color1, markersize = 6)\n",
    "    for tick in bp[0].xaxis.get_major_ticks():\n",
    "        tick.label1.set_fontsize(fontsize)\n",
    "        tick.label1.set_fontname(fname)\n",
    "    for tick in bp[0].yaxis.get_major_ticks():\n",
    "        tick.label1.set_fontsize(fontsize - 6)\n",
    "        tick.label1.set_fontname(fname)\n",
    "\n",
    "    plt.ylabel('Slowdown', fontsize = fontsize + 6, fontname = fname)\n",
    "    plt.ylim(bottom = y_bottom, top = y_top)\n",
    "    plt.axhline(y = qos, color = 'firebrick', linewidth = lw + 1, zorder = 4)\n",
    "    plt.suptitle('')\n",
    "    plt.tight_layout()\n",
    "    plt.savefig(f\"ClassVClass_{class_}_{qos}.png\")\n",
    "    plt.clf()\n"
   ]
  },
  {
   "cell_type": "code",
   "execution_count": 6,
   "id": "52ac47ea-d038-42b7-a302-3f2069190909",
   "metadata": {},
   "outputs": [
    {
     "data": {
      "text/plain": [
       "<Figure size 2000x750 with 0 Axes>"
      ]
     },
     "metadata": {},
     "output_type": "display_data"
    }
   ],
   "source": [
    "for c in [2, 3]:\n",
    "    box_plot_classvsclass(1.2, c)"
   ]
  },
  {
   "cell_type": "code",
   "execution_count": null,
   "id": "31dd6b6c-4bb6-4a1f-a25f-4e78f6bd6abb",
   "metadata": {},
   "outputs": [],
   "source": []
  }
 ],
 "metadata": {
  "kernelspec": {
   "display_name": "Python 3 (ipykernel)",
   "language": "python",
   "name": "python3"
  },
  "language_info": {
   "codemirror_mode": {
    "name": "ipython",
    "version": 3
   },
   "file_extension": ".py",
   "mimetype": "text/x-python",
   "name": "python",
   "nbconvert_exporter": "python",
   "pygments_lexer": "ipython3",
   "version": "3.10.6"
  }
 },
 "nbformat": 4,
 "nbformat_minor": 5
}
