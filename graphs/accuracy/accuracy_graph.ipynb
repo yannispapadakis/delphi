{
 "cells": [
  {
   "cell_type": "code",
   "execution_count": 1,
   "id": "d831f4a2-bfde-4147-9918-d6e866b85764",
   "metadata": {},
   "outputs": [],
   "source": [
    "import pandas as pd\n",
    "import matplotlib.pyplot as plt\n",
    "from itertools import product\n",
    "import matplotlib.font_manager"
   ]
  },
  {
   "cell_type": "code",
   "execution_count": 2,
   "id": "1aeef24a-9c85-4e8c-9f34-e69a589a14bf",
   "metadata": {},
   "outputs": [],
   "source": [
    "models_included = ['ET', 'RF', 'GB', 'MLP']\n",
    "qos_levels = [1.1, 1.2, 1.3]\n",
    "classes_ = [2, 3]\n",
    "features = ['sens', 'cont']\n",
    "metrics_str = ['accuracy', 'f1-score']"
   ]
  },
  {
   "cell_type": "code",
   "execution_count": 3,
   "id": "58e55b3d-0a45-4220-acc4-bf5da1ef8da1",
   "metadata": {},
   "outputs": [],
   "source": [
    "def parse_prediction(args):\n",
    "    (model, feat, classes, qos) = args\n",
    "    metrics = {'ET': {'sens': {2: {1.1: {'accuracy': 0.875, 'f1-score': 0.865}, 1.2: {'accuracy': 0.902, 'f1-score': 0.865}, 1.3: {'accuracy': 0.905, 'f1-score': 0.800}},\n",
    "                               3: {1.1: {'accuracy': 0.845, 'f1-score': 0.755}, 1.2: {'accuracy': 0.865, 'f1-score': 0.755}, 1.3: {'accuracy': 0.902, 'f1-score': 0.715}}},\n",
    "                      'cont': {2: {1.1: {'accuracy': 0.885, 'f1-score': 0.890}, 1.2: {'accuracy': 0.915, 'f1-score': 0.888}, 1.3: {'accuracy': 0.955, 'f1-score': 0.940}},\n",
    "                               3: {1.1: {'accuracy': 0.820, 'f1-score': 0.815}, 1.2: {'accuracy': 0.895, 'f1-score': 0.825}, 1.3: {'accuracy': 0.945, 'f1-score': 0.885}}}},\n",
    "               'RF': {'sens': {2: {1.1: {'accuracy': 0.850, 'f1-score': 0.830}, 1.2: {'accuracy': 0.875, 'f1-score': 0.820}, 1.3: {'accuracy': 0.905, 'f1-score': 0.795}},\n",
    "                               3: {1.1: {'accuracy': 0.820, 'f1-score': 0.725}, 1.2: {'accuracy': 0.850, 'f1-score': 0.690}, 1.3: {'accuracy': 0.902, 'f1-score': 0.600}}},\n",
    "                      'cont': {2: {1.1: {'accuracy': 0.870, 'f1-score': 0.870}, 1.2: {'accuracy': 0.915, 'f1-score': 0.890}, 1.3: {'accuracy': 0.955, 'f1-score': 0.940}},\n",
    "                               3: {1.1: {'accuracy': 0.780, 'f1-score': 0.775}, 1.2: {'accuracy': 0.892, 'f1-score': 0.815}, 1.3: {'accuracy': 0.945, 'f1-score': 0.860}}}},\n",
    "               'GB': {'sens': {2: {1.1: {'accuracy': 0.850, 'f1-score': 0.832}, 1.2: {'accuracy': 0.910, 'f1-score': 0.875}, 1.3: {'accuracy': 0.915, 'f1-score': 0.825}},\n",
    "                               3: {1.1: {'accuracy': 0.798, 'f1-score': 0.650}, 1.2: {'accuracy': 0.860, 'f1-score': 0.700}, 1.3: {'accuracy': 0.907, 'f1-score': 0.675}}},\n",
    "                      'cont': {2: {1.1: {'accuracy': 0.865, 'f1-score': 0.865}, 1.2: {'accuracy': 0.920, 'f1-score': 0.895}, 1.3: {'accuracy': 0.955, 'f1-score': 0.938}},\n",
    "                               3: {1.1: {'accuracy': 0.780, 'f1-score': 0.778}, 1.2: {'accuracy': 0.890, 'f1-score': 0.815}, 1.3: {'accuracy': 0.935, 'f1-score': 0.810}}}},\n",
    "               'MLP':{'sens': {2: {1.1: {'accuracy': 0.828, 'f1-score': 0.810}, 1.2: {'accuracy': 0.895, 'f1-score': 0.860}, 1.3: {'accuracy': 0.902, 'f1-score': 0.807}},\n",
    "                               3: {1.1: {'accuracy': 0.789, 'f1-score': 0.670}, 1.2: {'accuracy': 0.850, 'f1-score': 0.700}, 1.3: {'accuracy': 0.880, 'f1-score': 0.630}}},\n",
    "                      'cont': {2: {1.1: {'accuracy': 0.855, 'f1-score': 0.860}, 1.2: {'accuracy': 0.930, 'f1-score': 0.908}, 1.3: {'accuracy': 0.960, 'f1-score': 0.950}},\n",
    "                               3: {1.1: {'accuracy': 0.795, 'f1-score': 0.785}, 1.2: {'accuracy': 0.906, 'f1-score': 0.860}, 1.3: {'accuracy': 0.940, 'f1-score': 0.825}}}}}\n",
    "    return {'accuracy': metrics[model][feat][classes][qos]['accuracy'], 'f1-score': metrics[model][feat][classes][qos]['f1-score']}"
   ]
  },
  {
   "cell_type": "code",
   "execution_count": 4,
   "id": "44e439fc-8795-4b77-a5b6-ac68a223c245",
   "metadata": {},
   "outputs": [],
   "source": [
    "def get_metrics(feat, metric):\n",
    "    def string(c): return f\"{c[1]}{'C' if c[0] == 2 else 'M'}\"\n",
    "    d = {'SLO': map(string, list(product(*[classes_, qos_levels])))}\n",
    "    for model in models_included:\n",
    "        d[model] = [parse_prediction([model, feat, c, qos])[metric] for (c, qos) in list(product(*[classes_, qos_levels]))]\n",
    "    return d"
   ]
  },
  {
   "cell_type": "code",
   "execution_count": 5,
   "id": "d8a1f266-b045-417a-b541-d5e43c2c84ed",
   "metadata": {},
   "outputs": [],
   "source": [
    "def bar_graphs(feat, metric):\n",
    "    df = pd.DataFrame.from_dict(get_metrics(feat, metric))\n",
    "    df = df.set_index('SLO')\n",
    "\n",
    "    colors  = ['rosybrown', 'silver', 'steelblue', 'goldenrod']\n",
    "    hatches = len(df) * ['-'] + len(df) * ['/'] + len(df) * [''] + len(df) * ['\\\\']\n",
    "    labels = list(map(str, qos_levels)) * 2 \n",
    "    fontsize = 35\n",
    "    fname = \"Times New Roman\"\n",
    "\n",
    "    ax = df.plot.bar(color = colors, figsize = (15,10), ylim=(0.5, 1.0), rot = 0, zorder = 3, legend = False)\n",
    "    ax.grid(axis='y', zorder = 0)\n",
    "    ax.set_xticklabels(labels)\n",
    "    for bar, hatch in zip(ax.patches, hatches):\n",
    "        bar.set_hatch(hatch)\n",
    "        bar.set_edgecolor('black')\n",
    "    for tick in ax.xaxis.get_major_ticks(): \n",
    "        tick.label1.set_fontsize(fontsize)\n",
    "        tick.label1.set_fontname(fname)\n",
    "    for tick in ax.yaxis.get_major_ticks():\n",
    "        tick.label1.set_fontsize(fontsize)\n",
    "        tick.label1.set_fontname(fname)\n",
    "\n",
    "    ax.legend(bbox_to_anchor = (0, 1, 1, 0), loc='lower center', frameon=False, ncol = 4, prop = {'family':fname, 'size':fontsize - 5})\n",
    "    class_definitions = ['Conservative Classification', 'Moderate Classification']\n",
    "    ax.yaxis.set_label_coords(-0.08, 0.5)\n",
    "    ax.xaxis.set_label_coords(0.5, -0.15)\n",
    "    for (i, cd) in enumerate(class_definitions): plt.text(3 * i + 1, 0.425, cd, fontsize = fontsize, ha='center', fontname = fname)\n",
    "    plt.xlabel(\"SLO\", fontsize = fontsize, fontname = fname)\n",
    "    plt.ylabel(metric.capitalize(), fontsize = fontsize, fontname = fname)\n",
    "    plt.tight_layout()\n",
    "    plt.savefig(f\"{feat}_{metric}.png\")\n",
    "    plt.close()"
   ]
  },
  {
   "cell_type": "code",
   "execution_count": 6,
   "id": "b1b6f665-d291-4f66-bd8b-4f0bbfd30165",
   "metadata": {},
   "outputs": [],
   "source": [
    "def accuracy_metrics(): \n",
    "    for (feat, metric) in list(product(*[features, metrics_str])): bar_graphs(feat, metric)"
   ]
  },
  {
   "cell_type": "code",
   "execution_count": 7,
   "id": "2d16c110-7d69-496d-960e-d313c095ab22",
   "metadata": {},
   "outputs": [],
   "source": [
    "accuracy_metrics()"
   ]
  },
  {
   "cell_type": "code",
   "execution_count": null,
   "id": "e172db49-c819-477f-8758-36a38eee4047",
   "metadata": {},
   "outputs": [],
   "source": []
  }
 ],
 "metadata": {
  "kernelspec": {
   "display_name": "Python 3 (ipykernel)",
   "language": "python",
   "name": "python3"
  },
  "language_info": {
   "codemirror_mode": {
    "name": "ipython",
    "version": 3
   },
   "file_extension": ".py",
   "mimetype": "text/x-python",
   "name": "python",
   "nbconvert_exporter": "python",
   "pygments_lexer": "ipython3",
   "version": "3.10.6"
  }
 },
 "nbformat": 4,
 "nbformat_minor": 5
}
